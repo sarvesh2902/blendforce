{
 "cells": [
  {
   "cell_type": "code",
   "execution_count": 14,
   "id": "d4566059",
   "metadata": {},
   "outputs": [],
   "source": [
    "import pandas as pd\n",
    "df = pd.read_csv(\"employee.csv\")"
   ]
  },
  {
   "cell_type": "code",
   "execution_count": 20,
   "id": "b90c7ba4",
   "metadata": {},
   "outputs": [],
   "source": [
    "df = df.drop(['Aug_D_Q1', 'Aug_D_Q2', 'Aug_D_Q3', 'Aug_D_Q4',\n",
    " 'Aug_D_Q5', 'D_Negative', 'D_Neutral', 'D_Positive', 'Aug_E_Q1', 'Aug_E_Q2',\n",
    " 'Aug_E_Q3', 'Aug_E_Q4', 'Aug_E_Q5', 'E_Negative', 'E_Neutral', 'E_Positive',\n",
    " 'Aug_I_Q1', 'Aug_I_Q2', 'Aug_I_Q3', 'Aug_I_Q4', 'Aug_I_Q5', 'I_Negative',\n",
    " 'I_Neutral', 'I_Positive'], axis=1)"
   ]
  },
  {
   "cell_type": "code",
   "execution_count": 21,
   "id": "7a658aff",
   "metadata": {},
   "outputs": [
    {
     "name": "stdout",
     "output_type": "stream",
     "text": [
      "['Id' 'Name' 'Surname' 'Division' 'Manager' 'Gender' 'Sexual_Orientation'\n",
      " 'LGBTQ' 'Indigenous' 'Ethnicity' 'Disability' 'Minority' 'Veteran'\n",
      " 'Date of Birth' 'Age' 'Preferred Name' 'Nationality' 'Hobbies' 'Pronouns'\n",
      " 'Mobile Number' 'Email']\n"
     ]
    }
   ],
   "source": [
    "print(df.columns.values)"
   ]
  },
  {
   "cell_type": "code",
   "execution_count": 22,
   "id": "178c46af",
   "metadata": {},
   "outputs": [
    {
     "data": {
      "text/plain": [
       "array(['IT', 'Marketing', 'Finance', 'HR', 'RD', 'Sales', 'Operations'],\n",
       "      dtype=object)"
      ]
     },
     "execution_count": 22,
     "metadata": {},
     "output_type": "execute_result"
    }
   ],
   "source": [
    "# Get the unique values of 'Division' column\n",
    "df.Division.unique()"
   ]
  },
  {
   "cell_type": "code",
   "execution_count": 23,
   "id": "63945aad",
   "metadata": {},
   "outputs": [
    {
     "data": {
      "text/plain": [
       "array(['No', 'Yes'], dtype=object)"
      ]
     },
     "execution_count": 23,
     "metadata": {},
     "output_type": "execute_result"
    }
   ],
   "source": [
    "# Get the unique values of 'Manager' column\n",
    "df.Manager.unique()"
   ]
  },
  {
   "cell_type": "code",
   "execution_count": 24,
   "id": "3f4a4ebe",
   "metadata": {},
   "outputs": [
    {
     "data": {
      "text/plain": [
       "array(['Transgender', 'Male', 'Female', 'Prefer not to say',\n",
       "       'Non-binary/non-conforming', 'Other'], dtype=object)"
      ]
     },
     "execution_count": 24,
     "metadata": {},
     "output_type": "execute_result"
    }
   ],
   "source": [
    "# Get the unique values of 'Gender' column\n",
    "df.Gender.unique()"
   ]
  },
  {
   "cell_type": "code",
   "execution_count": 25,
   "id": "5531d38e",
   "metadata": {},
   "outputs": [
    {
     "data": {
      "text/plain": [
       "array(['Heterosexual', 'Prefer not to say', 'Bisexual', 'Homosexual',\n",
       "       'Other'], dtype=object)"
      ]
     },
     "execution_count": 25,
     "metadata": {},
     "output_type": "execute_result"
    }
   ],
   "source": [
    "# Get the unique values of 'Sexual_Orientation' column\n",
    "df.Sexual_Orientation.unique()"
   ]
  },
  {
   "cell_type": "code",
   "execution_count": 26,
   "id": "f579cd9f",
   "metadata": {},
   "outputs": [
    {
     "data": {
      "text/plain": [
       "array(['Prefer not to say', 'No', 'Yes'], dtype=object)"
      ]
     },
     "execution_count": 26,
     "metadata": {},
     "output_type": "execute_result"
    }
   ],
   "source": [
    "# Get the unique values of 'LGBTQ' column\n",
    "df.LGBTQ.unique()"
   ]
  },
  {
   "cell_type": "code",
   "execution_count": 27,
   "id": "b560c061",
   "metadata": {},
   "outputs": [
    {
     "data": {
      "text/plain": [
       "array(['No', 'Yes', 'Prefer not to say'], dtype=object)"
      ]
     },
     "execution_count": 27,
     "metadata": {},
     "output_type": "execute_result"
    }
   ],
   "source": [
    "# Get the unique values of 'Indigenous' column\n",
    "df.Indigenous.unique()"
   ]
  },
  {
   "cell_type": "code",
   "execution_count": 28,
   "id": "f38f7a8d",
   "metadata": {},
   "outputs": [
    {
     "data": {
      "text/plain": [
       "array(['White', 'Asian', 'Black', 'Middle Eastern', 'Other', 'Latin',\n",
       "       'Prefer not to say'], dtype=object)"
      ]
     },
     "execution_count": 28,
     "metadata": {},
     "output_type": "execute_result"
    }
   ],
   "source": [
    "# Get the unique values of 'Ethnicity' column\n",
    "df.Ethnicity.unique()"
   ]
  },
  {
   "cell_type": "code",
   "execution_count": 29,
   "id": "095b96df",
   "metadata": {},
   "outputs": [
    {
     "data": {
      "text/plain": [
       "array(['Yes', 'No', 'Prefer not to say'], dtype=object)"
      ]
     },
     "execution_count": 29,
     "metadata": {},
     "output_type": "execute_result"
    }
   ],
   "source": [
    "# Get the unique values of 'Disability' column\n",
    "df.Disability.unique()"
   ]
  },
  {
   "cell_type": "code",
   "execution_count": 30,
   "id": "dcab5db1",
   "metadata": {},
   "outputs": [
    {
     "data": {
      "text/plain": [
       "array(['No', 'Yes', 'Prefer not to say'], dtype=object)"
      ]
     },
     "execution_count": 30,
     "metadata": {},
     "output_type": "execute_result"
    }
   ],
   "source": [
    "# Get the unique values of 'Minority' column\n",
    "df.Minority.unique()"
   ]
  },
  {
   "cell_type": "code",
   "execution_count": 31,
   "id": "548b2132",
   "metadata": {},
   "outputs": [
    {
     "data": {
      "text/plain": [
       "array(['No', 'Prefer not to say', 'Yes'], dtype=object)"
      ]
     },
     "execution_count": 31,
     "metadata": {},
     "output_type": "execute_result"
    }
   ],
   "source": [
    "# Get the unique values of 'Veteran' column\n",
    "df.Veteran.unique()"
   ]
  },
  {
   "cell_type": "code",
   "execution_count": 32,
   "id": "eb268106",
   "metadata": {},
   "outputs": [
    {
     "data": {
      "text/plain": [
       "array(['Polish', 'Lao', 'Canadian', 'Korean', 'English', 'Norwegian',\n",
       "       'Indian', 'Jordanian', 'Sri Lankan', 'British', 'Brazilian',\n",
       "       'American', 'Ukrainian', 'Mongolian', 'Malaysian', 'Chinese',\n",
       "       'Greek', 'Australian', 'Afghan', 'Icelandic', 'Costa Rican',\n",
       "       'Czech', 'Fijian', 'Moroccan', 'Bangladeshi', 'Hungarian',\n",
       "       'Colombian', 'Dominican', 'Zambian', 'Lebanese', 'Scottish',\n",
       "       'Latvian', 'Peruvian', 'Vietnamese', 'Nigerian', 'Russian',\n",
       "       'German', 'Chilean', 'Indonesian', 'Taiwanese', 'Cuban',\n",
       "       'Uruguayan', 'Guatemalan', 'Spanish', 'Thai', 'Japanese',\n",
       "       'Namibian', 'Danish', 'Irish', 'Malagasy', 'Bolivian', 'Honduran',\n",
       "       'Austrian', 'Romanian', 'Philippine', 'Dutch', 'South African',\n",
       "       'Batswana', 'Lithuanian', 'Venezuelan', 'Ghanaian', 'Iraqi',\n",
       "       'Jamaican', 'Paraguayan', 'Tongan', 'Libyan', 'Kuwaiti',\n",
       "       'Argentinian', 'Ecuadorian', 'Nepalese', 'Singaporean', 'French',\n",
       "       'Zimbabwean', 'Mozambican', 'Tunisian', 'Nicaraguan', 'Egyptian',\n",
       "       'Mexican', 'Belgian', 'Kenyan', 'Croatian', 'Bulgarian', 'Slovak',\n",
       "       'Turkish', 'Tajikistani', 'Estonian', 'New Zealand', 'Maltese',\n",
       "       'Cambodian', 'Algerian', 'Cameroonian', 'Panamanian', 'Haitian',\n",
       "       'Pakistani', 'Salvadorian', 'Finnish', 'Ethiopian', 'Swedish',\n",
       "       'Syrian', 'Saudi', 'Welsh', 'Emirati', 'Serbian', 'Sudanese',\n",
       "       'Swiss', 'Israeli', 'Albanian', 'Senegalese', 'Portuguese',\n",
       "       'Italian', 'Malian', 'Iranian'], dtype=object)"
      ]
     },
     "execution_count": 32,
     "metadata": {},
     "output_type": "execute_result"
    }
   ],
   "source": [
    "# Get the unique values of 'Nationality' column\n",
    "df.Nationality.unique()"
   ]
  },
  {
   "cell_type": "code",
   "execution_count": 41,
   "id": "c2ef24e9",
   "metadata": {},
   "outputs": [
    {
     "name": "stdout",
     "output_type": "stream",
     "text": [
      "Empty DataFrame\n",
      "Columns: [Id, Name, Surname, Division, Manager, Gender, Sexual_Orientation, LGBTQ, Indigenous, Ethnicity, Disability, Minority, Veteran, Date of Birth, Age, Preferred Name, Nationality, Hobbies, Pronouns, Mobile Number, Email]\n",
      "Index: []\n",
      "\n",
      "[0 rows x 21 columns]\n"
     ]
    },
    {
     "ename": "ZeroDivisionError",
     "evalue": "division by zero",
     "output_type": "error",
     "traceback": [
      "\u001b[0;31m---------------------------------------------------------------------------\u001b[0m",
      "\u001b[0;31mZeroDivisionError\u001b[0m                         Traceback (most recent call last)",
      "Cell \u001b[0;32mIn[41], line 24\u001b[0m\n\u001b[1;32m     22\u001b[0m total_employees \u001b[38;5;241m=\u001b[39m \u001b[38;5;28mlen\u001b[39m(employee_data)\n\u001b[1;32m     23\u001b[0m female_employees \u001b[38;5;241m=\u001b[39m \u001b[38;5;28mlen\u001b[39m(employee_data[employee_data[\u001b[38;5;124m'\u001b[39m\u001b[38;5;124mGender\u001b[39m\u001b[38;5;124m'\u001b[39m] \u001b[38;5;241m==\u001b[39m \u001b[38;5;241m1\u001b[39m])\n\u001b[0;32m---> 24\u001b[0m gender_diversity_ratio \u001b[38;5;241m=\u001b[39m \u001b[43mfemale_employees\u001b[49m\u001b[43m \u001b[49m\u001b[38;5;241;43m/\u001b[39;49m\u001b[43m \u001b[49m\u001b[43mtotal_employees\u001b[49m\n\u001b[1;32m     25\u001b[0m \u001b[38;5;28mprint\u001b[39m(gender_diversity_ratio)\n\u001b[1;32m     27\u001b[0m \u001b[38;5;66;03m# Step 4: Define Recommendation Criteria\u001b[39;00m\n\u001b[1;32m     28\u001b[0m \u001b[38;5;66;03m# Set a threshold ratio for gender diversity\u001b[39;00m\n",
      "\u001b[0;31mZeroDivisionError\u001b[0m: division by zero"
     ]
    }
   ],
   "source": [
    "import pandas as pd\n",
    "\n",
    "# Step 1: Data Collection\n",
    "# Assuming you have a CSV file with columns: 'Name', 'Gender', 'JobTitle'\n",
    "employee_data = df\n",
    "\n",
    "# Step 2: Data Preprocessing\n",
    "# Remove any incomplete or irrelevant entries\n",
    "employee_data.dropna(inplace=True)\n",
    "\n",
    "# # Assuming gender values include 'Female', 'Male', and others\n",
    "# target_genders = ['Female', 'Male']\n",
    "# employee_data['Gender'] = employee_data['Gender'].apply(lambda x: x if x == \"Male\" else 'Other')\n",
    "\n",
    "print(employee_data)\n",
    "\n",
    "# Assign numerical values for each gender category\n",
    "gender_mapping = {'Female': 1, 'Male': 0, 'Other': 2}\n",
    "employee_data['Gender'] = employee_data['Gender'].map(gender_mapping)\n",
    "\n",
    "# Step 3: Calculate Gender Diversity Ratio\n",
    "total_employees = len(employee_data)\n",
    "female_employees = len(employee_data[employee_data['Gender'] == 1])\n",
    "gender_diversity_ratio = female_employees / total_employees\n",
    "print(gender_diversity_ratio)\n",
    "\n",
    "# Step 4: Define Recommendation Criteria\n",
    "# Set a threshold ratio for gender diversity\n",
    "threshold_ratio = 0.4\n",
    "\n",
    "# Step 5: Candidate Pool (Assuming an external database)\n",
    "candidate_data = employee_data\n",
    "\n",
    "# Step 6: Candidate Filtering\n",
    "if gender_diversity_ratio < threshold_ratio:\n",
    "    # Filter candidate pool for female candidates\n",
    "    filtered_candidates = candidate_data[candidate_data['Gender'] == 1]\n",
    "else:\n",
    "    # Filter candidate pool for male candidates\n",
    "    filtered_candidates = candidate_data[candidate_data['Gender'] == 0]\n",
    "\n",
    "# Assign a value of 2 for remaining genders (Other)\n",
    "filtered_candidates.loc[~filtered_candidates['Gender'].isin(target_genders), 'Gender'] = 2\n",
    "\n",
    "# # Step 7: Candidate Ranking\n",
    "# # You can define a ranking mechanism based on qualifications, experience, etc.\n",
    "# filtered_candidates = filtered_candidates.sort_values(by='Qualifications', ascending=False)\n",
    "\n",
    "# Step 8: Implement Recommendation System\n",
    "# Select the top recommended candidate(s)\n",
    "top_candidate = filtered_candidates  # Assuming the top candidate is the first in the sorted list\n",
    "\n",
    "# Step 9: System Evaluation (Monitoring the gender diversity ratio)\n",
    "# Track changes in the gender diversity ratio over time and gather feedback\n",
    "\n",
    "# Step 10: Iterative Improvement\n",
    "# Based on evaluation results and feedback, improve the recommendation system\n",
    "\n",
    "# Display the top recommended candidate\n",
    "print(\"Recommended Candidate:\")\n",
    "print(top_candidate)\n"
   ]
  },
  {
   "cell_type": "code",
   "execution_count": null,
   "id": "90e9ec75",
   "metadata": {},
   "outputs": [],
   "source": []
  }
 ],
 "metadata": {
  "kernelspec": {
   "display_name": "Python 3 (ipykernel)",
   "language": "python",
   "name": "python3"
  },
  "language_info": {
   "codemirror_mode": {
    "name": "ipython",
    "version": 3
   },
   "file_extension": ".py",
   "mimetype": "text/x-python",
   "name": "python",
   "nbconvert_exporter": "python",
   "pygments_lexer": "ipython3",
   "version": "3.11.3"
  }
 },
 "nbformat": 4,
 "nbformat_minor": 5
}
