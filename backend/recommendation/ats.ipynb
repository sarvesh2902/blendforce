{
 "cells": [
  {
   "cell_type": "code",
   "execution_count": 8,
   "id": "e3e255b5",
   "metadata": {
    "vscode": {
     "languageId": "plaintext"
    }
   },
   "outputs": [],
   "source": [
    "import docx2txt"
   ]
  },
  {
   "cell_type": "code",
   "execution_count": 9,
   "id": "d4e88eb4",
   "metadata": {
    "vscode": {
     "languageId": "plaintext"
    }
   },
   "outputs": [],
   "source": [
    "job_description = docx2txt.process('./jd.docx')"
   ]
  },
  {
   "cell_type": "code",
   "execution_count": 10,
   "id": "e6857467",
   "metadata": {},
   "outputs": [],
   "source": [
    "import fitz\n",
    "\n",
    "doc = fitz.open('resume2.pdf')\n",
    "resume = \"\"\n",
    "for page in doc:\n",
    "   resume +=page.get_text()"
   ]
  },
  {
   "cell_type": "code",
   "execution_count": 11,
   "id": "fb462135",
   "metadata": {},
   "outputs": [],
   "source": [
    "content = [job_description, resume]"
   ]
  },
  {
   "cell_type": "code",
   "execution_count": 12,
   "id": "575acd6d",
   "metadata": {},
   "outputs": [],
   "source": [
    "from sklearn.feature_extraction.text import CountVectorizer\n",
    "cv = CountVectorizer()\n",
    "matrix = cv.fit_transform(content)"
   ]
  },
  {
   "cell_type": "code",
   "execution_count": 13,
   "id": "e22788c8",
   "metadata": {},
   "outputs": [],
   "source": [
    "from sklearn.metrics.pairwise import cosine_similarity\n",
    "similarity_matrix = cosine_similarity(matrix)"
   ]
  },
  {
   "cell_type": "code",
   "execution_count": 14,
   "id": "00246396",
   "metadata": {},
   "outputs": [
    {
     "name": "stdout",
     "output_type": "stream",
     "text": [
      "59\n"
     ]
    }
   ],
   "source": [
    "print(int(similarity_matrix[1][0] * 100))"
   ]
  },
  {
   "cell_type": "code",
   "execution_count": 19,
   "id": "a955d9aa",
   "metadata": {},
   "outputs": [],
   "source": [
    "import pandas as pd\n",
    "import numpy as np"
   ]
  },
  {
   "cell_type": "code",
   "execution_count": 16,
   "id": "1aab6b83",
   "metadata": {},
   "outputs": [],
   "source": [
    "employee_df = pd.read_csv(\"employee_data.csv\")"
   ]
  },
  {
   "cell_type": "code",
   "execution_count": 21,
   "id": "0f143b26",
   "metadata": {},
   "outputs": [
    {
     "data": {
      "text/html": [
       "<div>\n",
       "<style scoped>\n",
       "    .dataframe tbody tr th:only-of-type {\n",
       "        vertical-align: middle;\n",
       "    }\n",
       "\n",
       "    .dataframe tbody tr th {\n",
       "        vertical-align: top;\n",
       "    }\n",
       "\n",
       "    .dataframe thead th {\n",
       "        text-align: right;\n",
       "    }\n",
       "</style>\n",
       "<table border=\"1\" class=\"dataframe\">\n",
       "  <thead>\n",
       "    <tr style=\"text-align: right;\">\n",
       "      <th></th>\n",
       "      <th>Id</th>\n",
       "      <th>Name</th>\n",
       "      <th>Surname</th>\n",
       "      <th>Division</th>\n",
       "      <th>Manager</th>\n",
       "      <th>Gender</th>\n",
       "      <th>Sexual_Orientation</th>\n",
       "      <th>LGBTQ</th>\n",
       "      <th>Indigenous</th>\n",
       "      <th>Ethnicity</th>\n",
       "      <th>...</th>\n",
       "      <th>Date of Birth</th>\n",
       "      <th>Age</th>\n",
       "      <th>Preferred Name</th>\n",
       "      <th>Nationality</th>\n",
       "      <th>Hobbies</th>\n",
       "      <th>Pronouns</th>\n",
       "      <th>Mobile Number</th>\n",
       "      <th>Email</th>\n",
       "      <th>gender_encoded</th>\n",
       "      <th>ats_score</th>\n",
       "    </tr>\n",
       "  </thead>\n",
       "  <tbody>\n",
       "    <tr>\n",
       "      <th>0</th>\n",
       "      <td>1</td>\n",
       "      <td>Deborah</td>\n",
       "      <td>Addison</td>\n",
       "      <td>IT</td>\n",
       "      <td>No</td>\n",
       "      <td>Transgender</td>\n",
       "      <td>Heterosexual</td>\n",
       "      <td>Prefer not to say</td>\n",
       "      <td>No</td>\n",
       "      <td>White</td>\n",
       "      <td>...</td>\n",
       "      <td>1993-06-04</td>\n",
       "      <td>29</td>\n",
       "      <td>Deborah</td>\n",
       "      <td>Polish</td>\n",
       "      <td>Travelling</td>\n",
       "      <td>They/them/theirs</td>\n",
       "      <td>363 436 1096</td>\n",
       "      <td>Deborah.Addison@mail.ca</td>\n",
       "      <td>2</td>\n",
       "      <td>68</td>\n",
       "    </tr>\n",
       "    <tr>\n",
       "      <th>1</th>\n",
       "      <td>2</td>\n",
       "      <td>Mona</td>\n",
       "      <td>Hill</td>\n",
       "      <td>Marketing</td>\n",
       "      <td>No</td>\n",
       "      <td>Male</td>\n",
       "      <td>Heterosexual</td>\n",
       "      <td>No</td>\n",
       "      <td>Yes</td>\n",
       "      <td>White</td>\n",
       "      <td>...</td>\n",
       "      <td>1963-08-02</td>\n",
       "      <td>59</td>\n",
       "      <td>Mona</td>\n",
       "      <td>Lao</td>\n",
       "      <td>Reading</td>\n",
       "      <td>He/him/his</td>\n",
       "      <td>905 980 9989</td>\n",
       "      <td>Mona.Hill@mail.ca</td>\n",
       "      <td>0</td>\n",
       "      <td>98</td>\n",
       "    </tr>\n",
       "    <tr>\n",
       "      <th>2</th>\n",
       "      <td>3</td>\n",
       "      <td>Kimberly</td>\n",
       "      <td>Shelton</td>\n",
       "      <td>Finance</td>\n",
       "      <td>No</td>\n",
       "      <td>Female</td>\n",
       "      <td>Heterosexual</td>\n",
       "      <td>No</td>\n",
       "      <td>No</td>\n",
       "      <td>White</td>\n",
       "      <td>...</td>\n",
       "      <td>1979-04-25</td>\n",
       "      <td>43</td>\n",
       "      <td>Kimberly</td>\n",
       "      <td>Canadian</td>\n",
       "      <td>Sports</td>\n",
       "      <td>She/her/hers</td>\n",
       "      <td>788 356 1577</td>\n",
       "      <td>Kimberly.Shelton@mail.ca</td>\n",
       "      <td>1</td>\n",
       "      <td>9</td>\n",
       "    </tr>\n",
       "    <tr>\n",
       "      <th>3</th>\n",
       "      <td>4</td>\n",
       "      <td>Denis</td>\n",
       "      <td>Robinson</td>\n",
       "      <td>HR</td>\n",
       "      <td>No</td>\n",
       "      <td>Male</td>\n",
       "      <td>Heterosexual</td>\n",
       "      <td>No</td>\n",
       "      <td>No</td>\n",
       "      <td>White</td>\n",
       "      <td>...</td>\n",
       "      <td>1978-02-11</td>\n",
       "      <td>44</td>\n",
       "      <td>Denis</td>\n",
       "      <td>Canadian</td>\n",
       "      <td>Sports</td>\n",
       "      <td>He/him/his</td>\n",
       "      <td>946 855 5822</td>\n",
       "      <td>Denis.Robinson@mail.ca</td>\n",
       "      <td>0</td>\n",
       "      <td>42</td>\n",
       "    </tr>\n",
       "    <tr>\n",
       "      <th>4</th>\n",
       "      <td>5</td>\n",
       "      <td>Carmen</td>\n",
       "      <td>Gunn</td>\n",
       "      <td>RD</td>\n",
       "      <td>No</td>\n",
       "      <td>Male</td>\n",
       "      <td>Heterosexual</td>\n",
       "      <td>No</td>\n",
       "      <td>No</td>\n",
       "      <td>Asian</td>\n",
       "      <td>...</td>\n",
       "      <td>1972-03-11</td>\n",
       "      <td>50</td>\n",
       "      <td>Carmen</td>\n",
       "      <td>Korean</td>\n",
       "      <td>Cooking</td>\n",
       "      <td>He/him/his</td>\n",
       "      <td>537 895 4532</td>\n",
       "      <td>Carmen.Gunn@mail.ca</td>\n",
       "      <td>0</td>\n",
       "      <td>41</td>\n",
       "    </tr>\n",
       "  </tbody>\n",
       "</table>\n",
       "<p>5 rows × 23 columns</p>\n",
       "</div>"
      ],
      "text/plain": [
       "   Id      Name   Surname   Division Manager       Gender Sexual_Orientation  \\\n",
       "0   1   Deborah   Addison         IT      No  Transgender       Heterosexual   \n",
       "1   2      Mona      Hill  Marketing      No         Male       Heterosexual   \n",
       "2   3  Kimberly   Shelton    Finance      No       Female       Heterosexual   \n",
       "3   4     Denis  Robinson         HR      No         Male       Heterosexual   \n",
       "4   5    Carmen      Gunn         RD      No         Male       Heterosexual   \n",
       "\n",
       "               LGBTQ Indigenous Ethnicity  ... Date of Birth Age  \\\n",
       "0  Prefer not to say         No     White  ...    1993-06-04  29   \n",
       "1                 No        Yes     White  ...    1963-08-02  59   \n",
       "2                 No         No     White  ...    1979-04-25  43   \n",
       "3                 No         No     White  ...    1978-02-11  44   \n",
       "4                 No         No     Asian  ...    1972-03-11  50   \n",
       "\n",
       "  Preferred Name Nationality     Hobbies          Pronouns Mobile Number  \\\n",
       "0        Deborah      Polish  Travelling  They/them/theirs  363 436 1096   \n",
       "1           Mona         Lao     Reading        He/him/his  905 980 9989   \n",
       "2       Kimberly    Canadian      Sports      She/her/hers  788 356 1577   \n",
       "3          Denis    Canadian      Sports        He/him/his  946 855 5822   \n",
       "4         Carmen      Korean     Cooking        He/him/his  537 895 4532   \n",
       "\n",
       "                      Email gender_encoded ats_score  \n",
       "0   Deborah.Addison@mail.ca              2        68  \n",
       "1         Mona.Hill@mail.ca              0        98  \n",
       "2  Kimberly.Shelton@mail.ca              1         9  \n",
       "3    Denis.Robinson@mail.ca              0        42  \n",
       "4       Carmen.Gunn@mail.ca              0        41  \n",
       "\n",
       "[5 rows x 23 columns]"
      ]
     },
     "execution_count": 21,
     "metadata": {},
     "output_type": "execute_result"
    }
   ],
   "source": [
    "employee_df.head()"
   ]
  },
  {
   "cell_type": "code",
   "execution_count": 20,
   "id": "568a58c2",
   "metadata": {},
   "outputs": [],
   "source": [
    "employee_df['ats_score'] = np.random.randint(1, 101, size=len(employee_df))"
   ]
  },
  {
   "cell_type": "code",
   "execution_count": 22,
   "id": "c4136af0",
   "metadata": {},
   "outputs": [],
   "source": [
    "employee_df.to_csv(\"candidates_data.csv\")"
   ]
  },
  {
   "cell_type": "code",
   "execution_count": null,
   "id": "2e21c120",
   "metadata": {},
   "outputs": [],
   "source": []
  }
 ],
 "metadata": {
  "kernelspec": {
   "display_name": "Python 3 (ipykernel)",
   "language": "python",
   "name": "python3"
  },
  "language_info": {
   "codemirror_mode": {
    "name": "ipython",
    "version": 3
   },
   "file_extension": ".py",
   "mimetype": "text/x-python",
   "name": "python",
   "nbconvert_exporter": "python",
   "pygments_lexer": "ipython3",
   "version": "3.11.3"
  }
 },
 "nbformat": 4,
 "nbformat_minor": 5
}
